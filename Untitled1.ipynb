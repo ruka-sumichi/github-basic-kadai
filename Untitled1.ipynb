{
  "nbformat": 4,
  "nbformat_minor": 0,
  "metadata": {
    "colab": {
      "provenance": []
    },
    "kernelspec": {
      "name": "python3",
      "display_name": "Python 3"
    },
    "language_info": {
      "name": "python"
    }
  },
  "cells": [
    {
      "cell_type": "code",
      "execution_count": 2,
      "metadata": {
        "colab": {
          "base_uri": "https://localhost:8080/"
        },
        "id": "_P5LFeE_DcAg",
        "outputId": "b3481feb-bf4e-4796-bdd6-8a1c7330c53c"
      },
      "outputs": [
        {
          "output_type": "stream",
          "name": "stdout",
          "text": [
            "75.0cm\n"
          ]
        }
      ],
      "source": [
        "top_line = 10\n",
        "under_line = 20\n",
        "hight_line = 5\n",
        "\n",
        "area = (top_line + under_line) * hight_line / 2\n",
        "\n",
        "print(str(area) + \"cm\")"
      ]
    }
  ]
}